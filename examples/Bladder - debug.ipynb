{
 "cells": [
  {
   "cell_type": "code",
   "execution_count": 1,
   "metadata": {},
   "outputs": [],
   "source": [
    "import actonet\n",
    "import biolqm"
   ]
  },
  {
   "cell_type": "code",
   "execution_count": 2,
   "metadata": {},
   "outputs": [
    {
     "data": {
      "text/markdown": [
       "Downloading http://ginsim.org/sites/default/files/Bladder_Model.zginml"
      ],
      "text/plain": [
       "<IPython.core.display.Markdown object>"
      ]
     },
     "metadata": {},
     "output_type": "display_data"
    },
    {
     "data": {
      "text/plain": [
       "AKT <- PI3K\n",
       "ATM_b1 <- DNAdamage|(ATM_b1&ATM_b2)\n",
       "ATM_b2 <- ATM_b1&DNAdamage&E2F1_b1\n",
       "Apoptosis_b1 <- TP53|(Apoptosis_b1&Apoptosis_b2)|(E2F1_b1&E2F1_b2)\n",
       "Apoptosis_b2 <- Apoptosis_b1&E2F1_b1&E2F1_b2\n",
       "CDC25A <- (!CHEK1_2_b1&E2F1_b1&!RBL2)|(!CHEK1_2_b1&E2F3_b1&!RBL2)\n",
       "CHEK1_2_b1 <- ATM_b1|(CHEK1_2_b1&CHEK1_2_b2)\n",
       "CHEK1_2_b2 <- ATM_b1&CHEK1_2_b1&E2F1_b1\n",
       "CyclinA <- (CDC25A&E2F1_b1&!RBL2&!p21CIP)|(CDC25A&E2F3_b1&!RBL2&!p21CIP)\n",
       "CyclinD1 <- (AKT&!p16INK4a&!p21CIP)|(RAS&!p16INK4a&!p21CIP)\n",
       "CyclinE1 <- (CDC25A&E2F1_b1&!RBL2&!p21CIP)|(CDC25A&E2F3_b1&!RBL2&!p21CIP)\n",
       "DNAdamage <- DNAdamage\n",
       "E2F1_b1 <- (E2F1_b1&E2F1_b2)|(E2F3_b1&!RB1&!RBL2)|(RAS&!RB1&!RBL2)\n",
       "E2F1_b2 <- (ATM_b1&ATM_b2&CHEK1_2_b1&CHEK1_2_b2&E2F1_b1&E2F3_b1&E2F3_b2&!RB1&!RBL2)|(ATM_b1&ATM_b2&CHEK1_2_b1&CHEK1_2_b2&E2F1_b1&RAS&!RB1&!RBL2)\n",
       "E2F3_b1 <- (E2F3_b1&E2F3_b2)|(RAS&!RB1)\n",
       "E2F3_b2 <- CHEK1_2_b1&CHEK1_2_b2&E2F3_b1&RAS&!RB1\n",
       "EGFR <- (EGFR_stimulus&!FGFR3&!GRB2)|(!FGFR3&!GRB2&SPRY)\n",
       "EGFR_stimulus <- EGFR_stimulus\n",
       "FGFR3 <- !EGFR&FGFR3_stimulus&!GRB2\n",
       "FGFR3_stimulus <- FGFR3_stimulus\n",
       "GRB2 <- EGFR|(FGFR3&!GRB2&!SPRY)\n",
       "GrowthInhibitors <- GrowthInhibitors\n",
       "Growth_Arrest <- RB1|RBL2|p21CIP\n",
       "MDM2 <- (AKT&!ATM_b1&!RB1&!p14ARF)|(!ATM_b1&!RB1&TP53&!p14ARF)\n",
       "PI3K <- GRB2&!PTEN&RAS\n",
       "PTEN <- TP53\n",
       "Proliferation <- CyclinA|CyclinE1\n",
       "RAS <- EGFR|FGFR3|GRB2\n",
       "RB1 <- !CyclinA&!CyclinD1&!CyclinE1&!p16INK4a\n",
       "RBL2 <- !CyclinD1&!CyclinE1\n",
       "SPRY <- RAS\n",
       "TP53 <- (ATM_b1&CHEK1_2_b1&!MDM2)|(E2F1_b1&E2F1_b2&!MDM2)\n",
       "p14ARF <- E2F1_b1\n",
       "p16INK4a <- GrowthInhibitors&!RB1\n",
       "p21CIP <- (!AKT&!CyclinE1&GrowthInhibitors)|(!AKT&!CyclinE1&TP53)"
      ]
     },
     "execution_count": 2,
     "metadata": {},
     "output_type": "execute_result"
    }
   ],
   "source": [
    "lqm = biolqm.load(\"http://ginsim.org/sites/default/files/Bladder_Model.zginml\")\n",
    "bn = biolqm.to_minibn(biolqm.booleanize(lqm)).simplify()\n",
    "bn"
   ]
  },
  {
   "cell_type": "code",
   "execution_count": 3,
   "metadata": {},
   "outputs": [],
   "source": [
    "act = actonet.ActoNet(bn)"
   ]
  },
  {
   "cell_type": "code",
   "execution_count": 4,
   "metadata": {},
   "outputs": [],
   "source": [
    "inputs = {\"DNAdamage\": 0, \"FGFR3_stimulus\": 1, \"EGFR_stimulus\": 0, \"GrowthInhibitors\": 1}\n",
    "spec = {\"Proliferation\": 1, \"Apoptosis_b1\": 0, \"Apoptosis_b2\": 0, \"Growth_Arrest\": 0}"
   ]
  },
  {
   "cell_type": "code",
   "execution_count": 5,
   "metadata": {
    "scrolled": false
   },
   "outputs": [
    {
     "name": "stdout",
     "output_type": "stream",
     "text": [
      "{'p16INK4a': 0, 'p21CIP': 0}\n",
      "{'RBL2': 0, 'p21CIP': 0}\n",
      "{'p16INK4a': 0, 'PI3K': 1}\n",
      "{'p16INK4a': 0, 'AKT': 1}\n",
      "{'p21CIP': 0, 'CyclinD1': 1}\n",
      "{'RBL2': 0, 'AKT': 1}\n",
      "{'RBL2': 0, 'EGFR': 1}\n",
      "{'p16INK4a': 0, 'EGFR': 1}\n",
      "{'CyclinD1': 1, 'EGFR': 1}\n",
      "{'AKT': 1, 'CyclinD1': 1}\n",
      "{'CyclinD1': 1, 'PI3K': 1}\n",
      "{'RBL2': 0, 'PI3K': 1}\n",
      "{'CyclinE1': 1}\n",
      "{'RBL2': 0, 'GRB2': 1}\n",
      "{'CyclinD1': 1, 'GRB2': 1}\n",
      "{'p16INK4a': 0, 'GRB2': 1}\n"
     ]
    }
   ],
   "source": [
    "act.set_outputs(list(spec.keys()))\n",
    "act.set_input_condition(inputs)\n",
    "act.set_property(spec)\n",
    "for sol in act.controls(maxcontrol=3):\n",
    "    print(sol)"
   ]
  },
  {
   "cell_type": "code",
   "execution_count": 6,
   "metadata": {},
   "outputs": [
    {
     "data": {
      "text/plain": [
       "['vAKT :- holds(set(vAKT, 1)).',\n",
       " 'vAKT :- not holds(set(vAKT, _)), not not vPI3K.',\n",
       " 'vATM_b1 :- holds(set(vATM_b1, 1)).',\n",
       " 'vATM_b1 :- not holds(set(vATM_b1, _)), holds(vDNAdamage).',\n",
       " 'vATM_b1 :- not holds(set(vATM_b1, _)), not not vATM_b1, not not vATM_b2.',\n",
       " 'vATM_b2 :- holds(set(vATM_b2, 1)).',\n",
       " 'vATM_b2 :- not holds(set(vATM_b2, _)), not not vATM_b1, holds(vDNAdamage), not not vE2F1_b1.',\n",
       " 'vApoptosis_b1 :- not not vTP53.',\n",
       " 'vApoptosis_b1 :- not not vApoptosis_b1, not not vApoptosis_b2.',\n",
       " 'vApoptosis_b1 :- not not vE2F1_b1, not not vE2F1_b2.',\n",
       " 'vApoptosis_b2 :- not not vApoptosis_b1, not not vE2F1_b1, not not vE2F1_b2.',\n",
       " 'vCDC25A :- holds(set(vCDC25A, 1)).',\n",
       " 'vCDC25A :- not holds(set(vCDC25A, _)), not vCHEK1_2_b1, not not vE2F1_b1, not vRBL2.',\n",
       " 'vCDC25A :- not holds(set(vCDC25A, _)), not vCHEK1_2_b1, not not vE2F3_b1, not vRBL2.',\n",
       " 'vCHEK1_2_b1 :- holds(set(vCHEK1_2_b1, 1)).',\n",
       " 'vCHEK1_2_b1 :- not holds(set(vCHEK1_2_b1, _)), not not vATM_b1.',\n",
       " 'vCHEK1_2_b1 :- not holds(set(vCHEK1_2_b1, _)), not not vCHEK1_2_b1, not not vCHEK1_2_b2.',\n",
       " 'vCHEK1_2_b2 :- holds(set(vCHEK1_2_b2, 1)).',\n",
       " 'vCHEK1_2_b2 :- not holds(set(vCHEK1_2_b2, _)), not not vATM_b1, not not vCHEK1_2_b1, not not vE2F1_b1.',\n",
       " 'vCyclinA :- holds(set(vCyclinA, 1)).',\n",
       " 'vCyclinA :- not holds(set(vCyclinA, _)), not not vCDC25A, not not vE2F1_b1, not vRBL2, not vp21CIP.',\n",
       " 'vCyclinA :- not holds(set(vCyclinA, _)), not not vCDC25A, not not vE2F3_b1, not vRBL2, not vp21CIP.',\n",
       " 'vCyclinD1 :- holds(set(vCyclinD1, 1)).',\n",
       " 'vCyclinD1 :- not holds(set(vCyclinD1, _)), not not vAKT, not vp16INK4a, not vp21CIP.',\n",
       " 'vCyclinD1 :- not holds(set(vCyclinD1, _)), not not vRAS, not vp16INK4a, not vp21CIP.',\n",
       " 'vCyclinE1 :- holds(set(vCyclinE1, 1)).',\n",
       " 'vCyclinE1 :- not holds(set(vCyclinE1, _)), not not vCDC25A, not not vE2F1_b1, not vRBL2, not vp21CIP.',\n",
       " 'vCyclinE1 :- not holds(set(vCyclinE1, _)), not not vCDC25A, not not vE2F3_b1, not vRBL2, not vp21CIP.',\n",
       " 'vE2F1_b1 :- holds(set(vE2F1_b1, 1)).',\n",
       " 'vE2F1_b1 :- not holds(set(vE2F1_b1, _)), not not vE2F1_b1, not not vE2F1_b2.',\n",
       " 'vE2F1_b1 :- not holds(set(vE2F1_b1, _)), not not vE2F3_b1, not vRB1, not vRBL2.',\n",
       " 'vE2F1_b1 :- not holds(set(vE2F1_b1, _)), not not vRAS, not vRB1, not vRBL2.',\n",
       " 'vE2F1_b2 :- holds(set(vE2F1_b2, 1)).',\n",
       " 'vE2F1_b2 :- not holds(set(vE2F1_b2, _)), not not vATM_b1, not not vATM_b2, not not vCHEK1_2_b1, not not vCHEK1_2_b2, not not vE2F1_b1, not not vE2F3_b1, not not vE2F3_b2, not vRB1, not vRBL2.',\n",
       " 'vE2F1_b2 :- not holds(set(vE2F1_b2, _)), not not vATM_b1, not not vATM_b2, not not vCHEK1_2_b1, not not vCHEK1_2_b2, not not vE2F1_b1, not not vRAS, not vRB1, not vRBL2.',\n",
       " 'vE2F3_b1 :- holds(set(vE2F3_b1, 1)).',\n",
       " 'vE2F3_b1 :- not holds(set(vE2F3_b1, _)), not not vE2F3_b1, not not vE2F3_b2.',\n",
       " 'vE2F3_b1 :- not holds(set(vE2F3_b1, _)), not not vRAS, not vRB1.',\n",
       " 'vE2F3_b2 :- holds(set(vE2F3_b2, 1)).',\n",
       " 'vE2F3_b2 :- not holds(set(vE2F3_b2, _)), not not vCHEK1_2_b1, not not vCHEK1_2_b2, not not vE2F3_b1, not not vRAS, not vRB1.',\n",
       " 'vEGFR :- holds(set(vEGFR, 1)).',\n",
       " 'vEGFR :- not holds(set(vEGFR, _)), holds(vEGFR_stimulus), not vFGFR3, not vGRB2.',\n",
       " 'vEGFR :- not holds(set(vEGFR, _)), not vFGFR3, not vGRB2, not not vSPRY.',\n",
       " 'vFGFR3 :- holds(set(vFGFR3, 1)).',\n",
       " 'vFGFR3 :- not holds(set(vFGFR3, _)), not vEGFR, holds(vFGFR3_stimulus), not vGRB2.',\n",
       " 'vGRB2 :- holds(set(vGRB2, 1)).',\n",
       " 'vGRB2 :- not holds(set(vGRB2, _)), not not vEGFR.',\n",
       " 'vGRB2 :- not holds(set(vGRB2, _)), not not vFGFR3, not vGRB2, not vSPRY.',\n",
       " 'vGrowth_Arrest :- not not vRB1.',\n",
       " 'vGrowth_Arrest :- not not vRBL2.',\n",
       " 'vGrowth_Arrest :- not not vp21CIP.',\n",
       " 'vMDM2 :- holds(set(vMDM2, 1)).',\n",
       " 'vMDM2 :- not holds(set(vMDM2, _)), not not vAKT, not vATM_b1, not vRB1, not vp14ARF.',\n",
       " 'vMDM2 :- not holds(set(vMDM2, _)), not vATM_b1, not vRB1, not not vTP53, not vp14ARF.',\n",
       " 'vPI3K :- holds(set(vPI3K, 1)).',\n",
       " 'vPI3K :- not holds(set(vPI3K, _)), not not vGRB2, not vPTEN, not not vRAS.',\n",
       " 'vPTEN :- holds(set(vPTEN, 1)).',\n",
       " 'vPTEN :- not holds(set(vPTEN, _)), not not vTP53.',\n",
       " 'vProliferation :- not not vCyclinA.',\n",
       " 'vProliferation :- not not vCyclinE1.',\n",
       " 'vRAS :- holds(set(vRAS, 1)).',\n",
       " 'vRAS :- not holds(set(vRAS, _)), not not vEGFR.',\n",
       " 'vRAS :- not holds(set(vRAS, _)), not not vFGFR3.',\n",
       " 'vRAS :- not holds(set(vRAS, _)), not not vGRB2.',\n",
       " 'vRB1 :- holds(set(vRB1, 1)).',\n",
       " 'vRB1 :- not holds(set(vRB1, _)), not vCyclinA, not vCyclinD1, not vCyclinE1, not vp16INK4a.',\n",
       " 'vRBL2 :- holds(set(vRBL2, 1)).',\n",
       " 'vRBL2 :- not holds(set(vRBL2, _)), not vCyclinD1, not vCyclinE1.',\n",
       " 'vSPRY :- holds(set(vSPRY, 1)).',\n",
       " 'vSPRY :- not holds(set(vSPRY, _)), not not vRAS.',\n",
       " 'vTP53 :- holds(set(vTP53, 1)).',\n",
       " 'vTP53 :- not holds(set(vTP53, _)), not not vATM_b1, not not vCHEK1_2_b1, not vMDM2.',\n",
       " 'vTP53 :- not holds(set(vTP53, _)), not not vE2F1_b1, not not vE2F1_b2, not vMDM2.',\n",
       " 'vp14ARF :- holds(set(vp14ARF, 1)).',\n",
       " 'vp14ARF :- not holds(set(vp14ARF, _)), not not vE2F1_b1.',\n",
       " 'vp16INK4a :- holds(set(vp16INK4a, 1)).',\n",
       " 'vp16INK4a :- not holds(set(vp16INK4a, _)), holds(vGrowthInhibitors), not vRB1.',\n",
       " 'vp21CIP :- holds(set(vp21CIP, 1)).',\n",
       " 'vp21CIP :- not holds(set(vp21CIP, _)), not vAKT, not vCyclinE1, holds(vGrowthInhibitors).',\n",
       " 'vp21CIP :- not holds(set(vp21CIP, _)), not vAKT, not vCyclinE1, not not vTP53.']"
      ]
     },
     "execution_count": 6,
     "metadata": {},
     "output_type": "execute_result"
    }
   ],
   "source": [
    "act.asp_fixpoint()"
   ]
  },
  {
   "cell_type": "code",
   "execution_count": 7,
   "metadata": {},
   "outputs": [
    {
     "data": {
      "text/plain": [
       "['value(0;1).',\n",
       " 'variable(vAKT; vATM_b1; vATM_b2; vApoptosis_b1; vApoptosis_b2; vCDC25A; vCHEK1_2_b1; vCHEK1_2_b2; vCyclinA; vCyclinD1; vCyclinE1; vDNAdamage; vE2F1_b1; vE2F1_b2; vE2F3_b1; vE2F3_b2; vEGFR; vEGFR_stimulus; vFGFR3; vFGFR3_stimulus; vGRB2; vGrowthInhibitors; vGrowth_Arrest; vMDM2; vPI3K; vPTEN; vProliferation; vRAS; vRB1; vRBL2; vSPRY; vTP53; vp14ARF; vp16INK4a; vp21CIP).',\n",
       " 'output(vApoptosis_b1; vApoptosis_b2; vGrowth_Arrest; vProliferation).',\n",
       " 'controlled(X) :- variable(X), not output(X).',\n",
       " 'control(X,T) :- controlled(X), value(T).',\n",
       " '#const maxcontrol=2.',\n",
       " '{set(X,V) : control(X,V)} maxcontrol.',\n",
       " ':- set(X,0), set(X,1).',\n",
       " 'holds(set(X,V)) :- set(X,V).',\n",
       " '#show holds/1.',\n",
       " '#show nholds/1.',\n",
       " '#project holds/1.',\n",
       " '{vFGFR3_stimulus; vDNAdamage; vGrowthInhibitors; vEGFR_stimulus}.',\n",
       " 'holds(vFGFR3_stimulus) :- vFGFR3_stimulus.',\n",
       " 'nholds(vFGFR3_stimulus) :- not holds(vFGFR3_stimulus).',\n",
       " 'holds(vDNAdamage) :- vDNAdamage.',\n",
       " 'nholds(vDNAdamage) :- not holds(vDNAdamage).',\n",
       " 'holds(vGrowthInhibitors) :- vGrowthInhibitors.',\n",
       " 'nholds(vGrowthInhibitors) :- not holds(vGrowthInhibitors).',\n",
       " 'holds(vEGFR_stimulus) :- vEGFR_stimulus.',\n",
       " 'nholds(vEGFR_stimulus) :- not holds(vEGFR_stimulus).',\n",
       " 'inputselectionnecessary :- not vDNAdamage, not vEGFR_stimulus, vFGFR3_stimulus, vGrowthInhibitors.',\n",
       " ':- not inputselectionnecessary.']"
      ]
     },
     "execution_count": 7,
     "metadata": {},
     "output_type": "execute_result"
    }
   ],
   "source": [
    "act.asp_guess()"
   ]
  },
  {
   "cell_type": "code",
   "execution_count": 8,
   "metadata": {},
   "outputs": [
    {
     "data": {
      "text/plain": [
       "[':- not vApoptosis_b1, not vApoptosis_b2, not vGrowth_Arrest, vProliferation.']"
      ]
     },
     "execution_count": 8,
     "metadata": {},
     "output_type": "execute_result"
    }
   ],
   "source": [
    "act.asp_check()"
   ]
  },
  {
   "cell_type": "code",
   "execution_count": null,
   "metadata": {},
   "outputs": [],
   "source": []
  }
 ],
 "metadata": {
  "kernelspec": {
   "display_name": "Python 3",
   "language": "python",
   "name": "python3"
  },
  "language_info": {
   "codemirror_mode": {
    "name": "ipython",
    "version": 3
   },
   "file_extension": ".py",
   "mimetype": "text/x-python",
   "name": "python",
   "nbconvert_exporter": "python",
   "pygments_lexer": "ipython3",
   "version": "3.7.7"
  }
 },
 "nbformat": 4,
 "nbformat_minor": 2
}
